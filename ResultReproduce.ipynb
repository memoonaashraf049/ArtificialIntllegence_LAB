{
  "nbformat": 4,
  "nbformat_minor": 0,
  "metadata": {
    "colab": {
      "provenance": []
    },
    "kernelspec": {
      "name": "python3",
      "display_name": "Python 3"
    },
    "language_info": {
      "name": "python"
    }
  },
  "cells": [
    {
      "cell_type": "markdown",
      "source": [
        "# **Numpy**"
      ],
      "metadata": {
        "id": "xkwhCuuhR0nT"
      }
    },
    {
      "cell_type": "code",
      "source": [
        "import numpy as np\n",
        "\n",
        "# Create 1D array\n",
        "arr = np.arange(10, 30) # Changed the range\n",
        "print('1D Array:', arr)\n",
        "\n",
        "# Reshape to 4x5 matrix\n",
        "matrix = arr.reshape(4, 5)\n",
        "print('4x5 Matrix:\\n', matrix)\n",
        "\n",
        "# Mean, Median, Std\n",
        "print('Mean:', np.mean(arr))\n",
        "print('Median:', np.median(arr))\n",
        "print('Standard Deviation:', np.std(arr))\n",
        "\n",
        "# Element-wise operations\n",
        "arr2 = np.arange(30, 50) # Changed the range\n",
        "print('Addition:', arr + arr2)\n",
        "print('Multiplication:', arr * arr2)"
      ],
      "metadata": {
        "colab": {
          "base_uri": "https://localhost:8080/"
        },
        "id": "E1BSfIkxR5VS",
        "outputId": "cecad52c-d028-4d24-b0cd-53fa6d35427c"
      },
      "execution_count": 6,
      "outputs": [
        {
          "output_type": "stream",
          "name": "stdout",
          "text": [
            "1D Array: [10 11 12 13 14 15 16 17 18 19 20 21 22 23 24 25 26 27 28 29]\n",
            "4x5 Matrix:\n",
            " [[10 11 12 13 14]\n",
            " [15 16 17 18 19]\n",
            " [20 21 22 23 24]\n",
            " [25 26 27 28 29]]\n",
            "Mean: 19.5\n",
            "Median: 19.5\n",
            "Standard Deviation: 5.766281297335398\n",
            "Addition: [40 42 44 46 48 50 52 54 56 58 60 62 64 66 68 70 72 74 76 78]\n",
            "Multiplication: [ 300  341  384  429  476  525  576  629  684  741  800  861  924  989\n",
            " 1056 1125 1196 1269 1344 1421]\n"
          ]
        }
      ]
    },
    {
      "cell_type": "code",
      "source": [
        "import numpy as np\n",
        "\n",
        "# Create 1D array\n",
        "arr = np.arange(1, 21)\n",
        "print('1D Array:', arr)\n",
        "\n",
        "# Reshape to 4x5 matrix\n",
        "matrix = arr.reshape(4, 5)\n",
        "print('4x5 Matrix:\\n', matrix)\n",
        "\n",
        "# Mean, Median, Std\n",
        "print('Mean:', np.mean(arr))\n",
        "print('Median:', np.median(arr))\n",
        "print('Standard Deviation:', np.std(arr))\n",
        "\n",
        "# Element-wise operations\n",
        "arr2 = np.arange(21, 41)\n",
        "print('Addition:', arr + arr2)\n",
        "print('Multiplication:', arr * arr2)"
      ],
      "metadata": {
        "colab": {
          "base_uri": "https://localhost:8080/"
        },
        "id": "BHeuXdPsSPGD",
        "outputId": "3308cd28-badb-465a-8d28-6fd4300b76a3"
      },
      "execution_count": 3,
      "outputs": [
        {
          "output_type": "stream",
          "name": "stdout",
          "text": [
            "1D Array: [ 1  2  3  4  5  6  7  8  9 10 11 12 13 14 15 16 17 18 19 20]\n",
            "4x5 Matrix:\n",
            " [[ 1  2  3  4  5]\n",
            " [ 6  7  8  9 10]\n",
            " [11 12 13 14 15]\n",
            " [16 17 18 19 20]]\n",
            "Mean: 10.5\n",
            "Median: 10.5\n",
            "Standard Deviation: 5.766281297335398\n",
            "Addition: [22 24 26 28 30 32 34 36 38 40 42 44 46 48 50 52 54 56 58 60]\n",
            "Multiplication: [ 21  44  69  96 125 156 189 224 261 300 341 384 429 476 525 576 629 684\n",
            " 741 800]\n"
          ]
        }
      ]
    }
  ]
}