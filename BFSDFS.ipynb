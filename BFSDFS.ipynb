{
  "nbformat": 4,
  "nbformat_minor": 0,
  "metadata": {
    "colab": {
      "provenance": [],
      "toc_visible": true
    },
    "kernelspec": {
      "name": "python3",
      "display_name": "Python 3"
    },
    "language_info": {
      "name": "python"
    }
  },
  "cells": [
    {
      "cell_type": "markdown",
      "source": [
        "# **Dictionary**"
      ],
      "metadata": {
        "id": "6ufZKd0q_5cL"
      }
    },
    {
      "cell_type": "markdown",
      "source": [
        "We made an undirected graph"
      ],
      "metadata": {
        "id": "tigqsb2kCfPa"
      }
    },
    {
      "cell_type": "code",
      "source": [
        "\n",
        "pakistan_cities = {\n",
        "    'Sargodha': ['Pindi'],\n",
        "    'Pindi': ['Sargodha', 'Okara'],\n",
        "    'Okara': ['Pindi', 'Murree', 'Quetta'],\n",
        "    'Murree': ['Okara', 'Kohat'],\n",
        "    'Quetta': ['Okara'],\n",
        "    'Kohat': ['Murree', 'Mansehra'],\n",
        "    'Mansehra': ['Kohat', 'Taxila'],\n",
        "    'Taxila': ['Mansehra']\n",
        "}"
      ],
      "metadata": {
        "id": "TAycWhqc__u6"
      },
      "execution_count": null,
      "outputs": []
    },
    {
      "cell_type": "code",
      "source": [
        "from collections import deque\n",
        "def bfs_shortest_path1(graph1, start1, goal1):\n",
        "\n",
        "    queue1 = deque([[start1]])\n",
        "\n",
        "    # Keep track of visited cities to avoid revisiting\n",
        "    visited1 = set()\n",
        "\n",
        "#Keep looping while there are paths left to explore.\n",
        "    while queue1:\n",
        "        # Remove the first path from the queue (FIFO)\n",
        "        path1 = queue1.popleft()\n",
        "        current_city1 = path1[-1]  # Get the last node in the path, which is where you are now.\n",
        "\n",
        "        # If the goal is reached, return this path immediately\n",
        "        if current_city1 == goal1:\n",
        "            return path1\n",
        "\n",
        "        # If the current city has not been visited yet\n",
        "        if current_city1 not in visited1:\n",
        "            visited1.add(current_city1)  # Mark it as visited\n",
        "\n",
        "            # Loop through all neighboring cities\n",
        "            #key = current_city → the city we are currently exploring.\n",
        "            #default_value = [] → an empty list.\n",
        "            #This is a for loop that iterates through every neighbor of the current_city.\n",
        "            #Each loop step gives you one neighbor at a time.\n",
        "            #If current_city = 'A', and 'A' is connected to 'B' and 'C':\n",
        "            for neighbor1 in graph1.get(current_city1, []):\n",
        "                # Create a new path with the neighbor added\n",
        "                #Makes a safe copy of the current path so changes won’t affect the original one\n",
        "                new_path1 = list(path1)  # Copy the current path\n",
        "                #Extends the copied path by adding the neighbor city to the end.\n",
        "                new_path1.append(neighbor1)\n",
        "\n",
        "                # Add the new path to the queue\n",
        "                #Why needed?\n",
        "              #Keeps BFS exploring paths in order, ensuring the shortest path is found.\n",
        "                queue1.append(new_path1)\n",
        "\n",
        "\n",
        "    # If we exhaust the queue and never find the goal\n",
        "    #return None means no path exists, so the function stops and gives back 'nothing found' as the result.\"\n",
        "    return None\n",
        "#This function is like a map explorer that starts at one city\n",
        "# and keeps going deeper step-by-step to find the goal, while remembering the path and visited cities.\n",
        "def dfs_path1(graph1, start1, goal1, path1=None, visited1=None):\n",
        "\n",
        "    # Initialize path and visited on the first call\n",
        "    \"path starts as an empty list to record the route you take.\"\n",
        "    if path1 is None:\n",
        "        path1 = []\n",
        "        \"visited starts as an empty set to remember visited places so you don't repeat them.\"\n",
        "    if visited1 is None:\n",
        "        visited1 = set()\n",
        "\n",
        "    # Add current city to the path and mark as visited\n",
        "    #Record the starting point in your route.\n",
        "    path1.append(start1)\n",
        "    #Mark it as visited to avoid cycles.\n",
        "    visited1.add(start1)\n",
        "\n",
        "    # If goal is reached, return the path\n",
        "    if start1 == goal1:\n",
        "        return path1\n",
        "\n",
        "    # Explore each neighbor recursively\n",
        "    #Gets all neighbors of the current node. Returns [] if no neighbors exist.\n",
        "    for neighbor1 in graph1.get(start1, []):\n",
        "        if neighbor1 not in visited1:\n",
        "# Make recursive DFS call\n",
        "# graph The entire map of nodes and connections.\n",
        "#neighbor       The next node to explore.\n",
        "#goal   The final target node to reach.\n",
        "#path.copy()    Safe copy of the current route.\n",
        "#visited.copy() Safe copy of visited nodes to prevent loops.\n",
        "#result = dfs_path(...) Go deeper into the graph and store the result.\n",
        "            result1 = dfs_path1(graph1, neighbor1, goal1, path1.copy(), visited1.copy())\n",
        "\n",
        "            # If a path is found, return it immediately\n",
        "            if result1:\n",
        "                return result1\n",
        "\n",
        "    # If no path found from this city, return None\n",
        "    return None\n",
        "\n",
        "# -------------------------------------------\n",
        "# Step 4: Testing the functions\n",
        "# -------------------------------------------\n",
        "start_city1 = \"Murree\"\n",
        "goal_city1 = \"Okara\"\n",
        "\n",
        "\n",
        "# BFS for the shortest path\n",
        "bfs_result1 = bfs_shortest_path1(pakistan_cities, start_city1, goal_city1)\n",
        "print(\"BFS Shortest Path from Karachi to Peshawar:\", bfs_result1)\n",
        "# DFS for any path\n",
        "dfs_result1 = dfs_path1(pakistan_cities, start_city1, goal_city1)\n",
        "print(\"DFS Path from Karachi to Peshawar:\", dfs_result1)"
      ],
      "metadata": {
        "colab": {
          "base_uri": "https://localhost:8080/"
        },
        "id": "PYVwub2ND0y7",
        "outputId": "56ce01f9-0192-4a34-bcd1-e1d17e173f7f"
      },
      "execution_count": 29,
      "outputs": [
        {
          "output_type": "stream",
          "name": "stdout",
          "text": [
            "BFS Shortest Path from Karachi to Peshawar: ['Murree', 'Okara']\n",
            "DFS Path from Karachi to Peshawar: ['Murree', 'Okara']\n"
          ]
        }
      ]
    }
  ]
}