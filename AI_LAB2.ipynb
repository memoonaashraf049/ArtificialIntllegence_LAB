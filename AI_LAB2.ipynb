{
  "nbformat": 4,
  "nbformat_minor": 0,
  "metadata": {
    "colab": {
      "provenance": [],
      "toc_visible": true
    },
    "kernelspec": {
      "name": "python3",
      "display_name": "Python 3"
    },
    "language_info": {
      "name": "python"
    }
  },
  "cells": [
    {
      "cell_type": "code",
      "execution_count": null,
      "metadata": {
        "id": "rAvljBQt6gnG"
      },
      "outputs": [],
      "source": []
    },
    {
      "cell_type": "markdown",
      "source": [
        "# **List**\n"
      ],
      "metadata": {
        "id": "78j0L1QN6rBj"
      }
    },
    {
      "cell_type": "code",
      "source": [
        "#create a list of 10 integrals\n",
        "a=[5,10,7,4,8,98,67,46,76,56]\n",
        "print('list of 10 integrals is:',a)\n",
        "#print('sum of the list is:',sum(a))\n",
        "print('max of the list is:',max(a))\n",
        "print('min of the list is:',min(a))\n",
        "\n",
        "#add and remove element\n",
        "a.append(30)\n",
        "a.remove(10)\n",
        "print('updated list:',a)\n",
        "\n",
        "#sort ascending and descending\n",
        "print('ascending of the list is:',sorted(a))\n",
        "print('descending of the list is:',sorted(a,reverse=True))\n",
        "\n",
        "\n"
      ],
      "metadata": {
        "colab": {
          "base_uri": "https://localhost:8080/"
        },
        "collapsed": true,
        "id": "S0U5zI_XANrY",
        "outputId": "979ec5f9-c94a-4109-81c4-624ed9c13b47"
      },
      "execution_count": 19,
      "outputs": [
        {
          "output_type": "stream",
          "name": "stdout",
          "text": [
            "list of 10 integrals is: [5, 10, 7, 4, 8, 98, 67, 46, 76, 56]\n",
            "max of the list is: 98\n",
            "min of the list is: 4\n",
            "updated list: [5, 7, 4, 8, 98, 67, 46, 76, 56, 30]\n",
            "ascending of the list is: [4, 5, 7, 8, 30, 46, 56, 67, 76, 98]\n",
            "descending of the list is: [98, 76, 67, 56, 46, 30, 8, 7, 5, 4]\n"
          ]
        }
      ]
    },
    {
      "cell_type": "markdown",
      "source": [
        "# Tuples"
      ],
      "metadata": {
        "id": "mtJZqCjS62GS"
      }
    },
    {
      "cell_type": "code",
      "source": [
        "#TUPLE OF 5 STRINGS\n",
        "fruits=(\"mango\",\"grapes\",\"banana\",\"pineapple\",\"strawberry\")\n",
        "print('fruits are:',fruits)\n",
        "\n",
        "#printing 2nd last element\n",
        "print('2nd element is:', fruits[1])\n",
        "print('last element is:', fruits[-1])\n",
        "\n",
        "#try to modify tuple\n",
        "#fruits.append(\"peach\")\n",
        "#fruits.remove(\"mango\")\n",
        "#print('updated tuple:',fruits)\n",
        "\n",
        "\n",
        "#convert tuple into list and modify it\n",
        "fruits_list=list(fruits)\n",
        "fruits_list.append(\"peach\")\n",
        "fruits_list.remove(\"mango\")\n",
        "print('updated list:',fruits_list)"
      ],
      "metadata": {
        "colab": {
          "base_uri": "https://localhost:8080/"
        },
        "id": "OHRhBgrvE1F_",
        "outputId": "90c61f92-449a-49af-c9c1-2df4f786627f"
      },
      "execution_count": 35,
      "outputs": [
        {
          "output_type": "stream",
          "name": "stdout",
          "text": [
            "fruits are: ('mango', 'grapes', 'banana', 'pineapple', 'strawberry')\n",
            "2nd element is: grapes\n",
            "last element is: strawberry\n",
            "updated list: ['grapes', 'banana', 'pineapple', 'strawberry', 'peach']\n"
          ]
        }
      ]
    },
    {
      "cell_type": "markdown",
      "source": [
        "# Sets"
      ],
      "metadata": {
        "id": "LTatQ73t7Cbq"
      }
    },
    {
      "cell_type": "code",
      "source": [
        "#CREATE 2 SETS WITH SOME COMMON AND UNIQUE ELEMENTS\n",
        "set1={1,2,3,4,5,6,7,8,9,10}\n",
        "set2={5,6,7,8,9,10,11,12,13,14}\n",
        "print('set1:',set1)\n",
        "print('set2:',set2)\n",
        "\n",
        "#perform union and intersection and differences of 2 sets\n",
        "print('union of set1 and set2 is:',set1 | set2)\n",
        "print('intersection of set1 and set2 is:',set1 & set2)\n",
        "print('difference of set1 and set2 is:',set1.difference(set2))\n",
        "print('difference of set2 and set1 is:',set2-set1)"
      ],
      "metadata": {
        "colab": {
          "base_uri": "https://localhost:8080/"
        },
        "id": "15w3kF_vIAjG",
        "outputId": "12262c73-6e8e-420a-93a8-2d1761b01783"
      },
      "execution_count": 42,
      "outputs": [
        {
          "output_type": "stream",
          "name": "stdout",
          "text": [
            "set1: {1, 2, 3, 4, 5, 6, 7, 8, 9, 10}\n",
            "set2: {5, 6, 7, 8, 9, 10, 11, 12, 13, 14}\n",
            "union of set1 and set2 is: {1, 2, 3, 4, 5, 6, 7, 8, 9, 10, 11, 12, 13, 14}\n",
            "intersection of set1 and set2 is: {5, 6, 7, 8, 9, 10}\n",
            "difference of set1 and set2 is: {1, 2, 3, 4}\n",
            "difference of set2 and set1 is: {11, 12, 13, 14}\n"
          ]
        }
      ]
    },
    {
      "cell_type": "markdown",
      "source": [
        "# **Dictionary**"
      ],
      "metadata": {
        "id": "3ZVFIi1Q74uC"
      }
    },
    {
      "cell_type": "code",
      "source": [
        "#create a key of students\n",
        "students={'hashir': 99,'memoona':100,'ali':88,'Daneen':80,'Hadeed':59}\n",
        "\n",
        "#print keys and values\n",
        "print(students)\n",
        "print(students.values())\n",
        "\n",
        "#update values\n",
        "students['Ali']=85\n",
        "print(students)\n",
        "\n"
      ],
      "metadata": {
        "colab": {
          "base_uri": "https://localhost:8080/"
        },
        "id": "UYX7zBXgJTbu",
        "outputId": "69ec2e05-6b33-4a27-9f7d-bc8f37a53fa3"
      },
      "execution_count": 48,
      "outputs": [
        {
          "output_type": "stream",
          "name": "stdout",
          "text": [
            "{'hashir': 99, 'memoona': 100, 'ali': 88, 'Daneen': 80, 'Hadeed': 59}\n",
            "dict_values([99, 100, 88, 80, 59])\n",
            "{'hashir': 99, 'memoona': 100, 'ali': 88, 'Daneen': 80, 'Hadeed': 59, 'Ali': 85}\n"
          ]
        }
      ]
    },
    {
      "cell_type": "markdown",
      "source": [
        "# **Numpy**\n"
      ],
      "metadata": {
        "id": "GlbWzaxw7J4a"
      }
    },
    {
      "cell_type": "markdown",
      "source": [
        "# **Matplotlib**"
      ],
      "metadata": {
        "id": "PsRh6rSb7PV6"
      }
    },
    {
      "cell_type": "markdown",
      "source": [],
      "metadata": {
        "id": "S1R7jybz7U7i"
      }
    }
  ]
}