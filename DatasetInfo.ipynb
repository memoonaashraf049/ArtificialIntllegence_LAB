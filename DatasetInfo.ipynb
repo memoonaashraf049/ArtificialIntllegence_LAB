{
  "nbformat": 4,
  "nbformat_minor": 0,
  "metadata": {
    "colab": {
      "provenance": []
    },
    "kernelspec": {
      "name": "python3",
      "display_name": "Python 3"
    },
    "language_info": {
      "name": "python"
    }
  },
  "cells": [
    {
      "cell_type": "markdown",
      "source": [
        "**DatasetName**"
      ],
      "metadata": {
        "id": "gxsrA8b9DtV-"
      }
    },
    {
      "cell_type": "code",
      "source": [
        "import numpy as np   #for numerical computation\n",
        "\n"
      ],
      "metadata": {
        "id": "ievt_rOfTAAO"
      },
      "execution_count": null,
      "outputs": []
    },
    {
      "cell_type": "code",
      "source": [
        "import pandas as pd  #for data analysis"
      ],
      "metadata": {
        "id": "tQcoTx2kTYBG"
      },
      "execution_count": null,
      "outputs": []
    },
    {
      "cell_type": "code",
      "source": [
        "import matplotlib.pyplot as plt\n",
        "  #for data visualization"
      ],
      "metadata": {
        "id": "8fTl4YjsTfPG"
      },
      "execution_count": null,
      "outputs": []
    },
    {
      "cell_type": "code",
      "source": [
        "File_path = '/content/drive/MyDrive/AI_LAB/Assignment 1/NF-ToN-IoT-V2.parquet'"
      ],
      "metadata": {
        "id": "n3NgQQCfVMY1"
      },
      "execution_count": null,
      "outputs": []
    },
    {
      "cell_type": "code",
      "source": [
        "df = pd.read_excel(path)\n"
      ],
      "metadata": {
        "id": "iHCGqxB-XokE",
        "colab": {
          "base_uri": "https://localhost:8080/",
          "height": 141
        },
        "outputId": "c31ec9ac-0568-4eec-8c00-9e169076f3df"
      },
      "execution_count": 28,
      "outputs": [
        {
          "output_type": "error",
          "ename": "NameError",
          "evalue": "name 'path' is not defined",
          "traceback": [
            "\u001b[0;31m---------------------------------------------------------------------------\u001b[0m",
            "\u001b[0;31mNameError\u001b[0m                                 Traceback (most recent call last)",
            "\u001b[0;32m/tmp/ipython-input-377664404.py\u001b[0m in \u001b[0;36m<cell line: 0>\u001b[0;34m()\u001b[0m\n\u001b[0;32m----> 1\u001b[0;31m \u001b[0mdf\u001b[0m \u001b[0;34m=\u001b[0m \u001b[0mpd\u001b[0m\u001b[0;34m.\u001b[0m\u001b[0mread_excel\u001b[0m\u001b[0;34m(\u001b[0m\u001b[0mpath\u001b[0m\u001b[0;34m)\u001b[0m\u001b[0;34m\u001b[0m\u001b[0;34m\u001b[0m\u001b[0m\n\u001b[0m",
            "\u001b[0;31mNameError\u001b[0m: name 'path' is not defined"
          ]
        }
      ]
    },
    {
      "cell_type": "code",
      "source": [
        "print(df.head())"
      ],
      "metadata": {
        "colab": {
          "base_uri": "https://localhost:8080/",
          "height": 141
        },
        "id": "4q7vhIELkYkv",
        "outputId": "f36ee221-1560-4102-e167-2d2b9e0dac2f"
      },
      "execution_count": 29,
      "outputs": [
        {
          "output_type": "error",
          "ename": "NameError",
          "evalue": "name 'df' is not defined",
          "traceback": [
            "\u001b[0;31m---------------------------------------------------------------------------\u001b[0m",
            "\u001b[0;31mNameError\u001b[0m                                 Traceback (most recent call last)",
            "\u001b[0;32m/tmp/ipython-input-3810112079.py\u001b[0m in \u001b[0;36m<cell line: 0>\u001b[0;34m()\u001b[0m\n\u001b[0;32m----> 1\u001b[0;31m \u001b[0mprint\u001b[0m\u001b[0;34m(\u001b[0m\u001b[0mdf\u001b[0m\u001b[0;34m.\u001b[0m\u001b[0mhead\u001b[0m\u001b[0;34m(\u001b[0m\u001b[0;34m)\u001b[0m\u001b[0;34m)\u001b[0m\u001b[0;34m\u001b[0m\u001b[0;34m\u001b[0m\u001b[0m\n\u001b[0m",
            "\u001b[0;31mNameError\u001b[0m: name 'df' is not defined"
          ]
        }
      ]
    },
    {
      "cell_type": "markdown",
      "source": [
        "NF-ToN-IoT"
      ],
      "metadata": {
        "id": "RIHy42cXFgSS"
      }
    },
    {
      "cell_type": "markdown",
      "source": [
        "**Format**"
      ],
      "metadata": {
        "id": "fQghPTr-FqGq"
      }
    },
    {
      "cell_type": "markdown",
      "source": [
        "semi structured\n",
        "(CSV NetFlow data)\n",
        "It is a benchmark dataset."
      ],
      "metadata": {
        "id": "d8t2TuysHfcS"
      }
    },
    {
      "cell_type": "markdown",
      "source": [
        "**Size**"
      ],
      "metadata": {
        "id": "fh3_n2ZaHnsi"
      }
    },
    {
      "cell_type": "markdown",
      "source": [
        "174.3MB"
      ],
      "metadata": {
        "id": "YQsoNFJCHqZK"
      }
    },
    {
      "cell_type": "markdown",
      "source": [
        "**Total Instances**"
      ],
      "metadata": {
        "id": "VlcQstPPHu-z"
      }
    },
    {
      "cell_type": "markdown",
      "source": [
        "~22.5 million\n",
        "Train Instances      ~14.4 million\n",
        "Test Instances       ~8.1 million\n",
        "\n",
        "\n",
        "\n",
        "\n"
      ],
      "metadata": {
        "id": "VAr8ApNOI3IS"
      }
    },
    {
      "cell_type": "markdown",
      "source": [
        "**5 Features**"
      ],
      "metadata": {
        "id": "StOjReuZI6ES"
      }
    },
    {
      "cell_type": "markdown",
      "source": [
        "\tFeature Name\tDescription\n",
        "**1**\n",
        "**Feature Name**       src_ip\n",
        "**Description:**       *Source IP address* — the IP address of the device that initiated the connection.\n",
        "\n",
        "\n",
        "**2.\t**\t.\n",
        "**Feature Name**       dst_ip     \n",
        "**Description:**       *Destination IP* address — the IP address of the device receiving the connection\n",
        "\n",
        "\n",
        "**3.**\n",
        "**Feature Name**       protocol   \n",
        "**Description:**       The communication protocol used (e.g., TCP, UDP, ICMP).\n",
        "\n",
        "\n",
        "**4.**\n",
        "**Feature Name**       bytes  \n",
        "**Description:**       Total number of bytes transferred in the network flow (both directions).\n",
        "\n",
        "\n",
        "**5.**\n",
        "**Feature Name**       packets  \n",
        "**Description:**       Number of packets sent during the flow between the two endpoints.\n"
      ],
      "metadata": {
        "id": "zW1D3WvjJojy"
      }
    },
    {
      "cell_type": "markdown",
      "source": [
        "**Labelled/Unlabelled**"
      ],
      "metadata": {
        "id": "ewwnnTBAJo7C"
      }
    },
    {
      "cell_type": "markdown",
      "source": [
        "The NF-ToN-IoT dataset is a labeled dataset."
      ],
      "metadata": {
        "id": "_tbiNtEwJtDa"
      }
    },
    {
      "cell_type": "markdown",
      "source": [
        "**Type Of Dataset**"
      ],
      "metadata": {
        "id": "9dU9ScCpLYwa"
      }
    },
    {
      "cell_type": "markdown",
      "source": [
        "The NF-ToN-IoT dataset is primarily a numerical and categorical dataset."
      ],
      "metadata": {
        "id": "eSDcRarkLnJK"
      }
    },
    {
      "cell_type": "markdown",
      "source": [
        "**Machine Learning Models (Classical ML)**\n",
        "\n"
      ],
      "metadata": {
        "id": "ogYbCHoHLsvy"
      }
    },
    {
      "cell_type": "markdown",
      "source": [
        "1.Linear Regression\n",
        "2.Logistic Regression\n",
        "3\tDecision Tree\n",
        "4 Random Forest\n",
        "5\tSupport Vector Machine (SVM)\n",
        "6\tK-Nearest Neighbors (KNN)\n",
        "7 Naive Bayes\n",
        "8\tGradient Boosting Machine (GBM)\n",
        "9\tXGBoost\n",
        "10\tAdaBoost\n",
        "11\tLightGBM\n",
        "12\tCatBoost\n",
        "13\tHidden Markov Model (HMM)\n",
        "14\tPrincipal Component Analysis (PCA)"
      ],
      "metadata": {
        "id": "ZWxN2LwUhkXW"
      }
    },
    {
      "cell_type": "markdown",
      "source": [
        "** Deep Learning Models**"
      ],
      "metadata": {
        "id": "dYcmAcxJh39H"
      }
    },
    {
      "cell_type": "markdown",
      "source": [
        "15 Artificial Neural Network (ANN)\n",
        "16\tConvolutional Neural Network (CNN)\n",
        "17\tRecurrent Neural Network (RNN)\n",
        "18\tLong Short-Term Memory (LSTM)\n",
        "19\tGated Recurrent Unit (GRU)\n",
        "20\tAutoencoder\n",
        "21\tTransformer\n",
        "22\tGenerative Adversarial Network (GAN)"
      ],
      "metadata": {
        "id": "RbLSca94iJtN"
      }
    },
    {
      "cell_type": "markdown",
      "source": [
        "**Computer Vision Models**"
      ],
      "metadata": {
        "id": "sqXlp5uRiWvf"
      }
    },
    {
      "cell_type": "markdown",
      "source": [
        "23 AlexNet\n",
        "24\tVGGNet\n",
        "25\tResNet"
      ],
      "metadata": {
        "id": "ANFVqtA8iZu1"
      }
    }
  ]
}