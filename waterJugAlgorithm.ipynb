{
  "nbformat": 4,
  "nbformat_minor": 0,
  "metadata": {
    "colab": {
      "provenance": []
    },
    "kernelspec": {
      "name": "python3",
      "display_name": "Python 3"
    },
    "language_info": {
      "name": "python"
    }
  },
  "cells": [
    {
      "cell_type": "code",
      "execution_count": null,
      "metadata": {
        "id": "Rt2moFYrf6Vh"
      },
      "outputs": [],
      "source": []
    },
    {
      "cell_type": "markdown",
      "source": [
        "**Q1:. Which algorithm gives the shortest path? Why?**\n",
        "BFS and A* both gave the shortest path (3 steps).\n",
        "DFS gave a longer path.\n",
        "**Reason:**\n",
        "BFS explores all states level by level, guaranteeing the shortest path in an unweighted graph (like this problem).\n",
        "A* uses a heuristic and cost function (f = g + h), which makes it focus on the most promising states, so it also finds the shortest path.\n",
        "DFS goes deep into one path without checking for optimality, so it may find a longer solution."
      ],
      "metadata": {
        "id": "MipZyeHEgAH3"
      }
    },
    {
      "cell_type": "markdown",
      "source": [
        "**Q2. Which algorithm is more efficient in terms of time and memory?**\n",
        "\n",
        "**BFS:**\n",
        "**Time**: Explores all states level by level → can take longer if the state space is large.\n",
        "**Memory:** Stores all nodes at each level → can use a lot of memory.\n",
        "\n",
        "**DFS:**\n",
        "**Time:** May quickly find a solution, but not always optimal.\n",
        "**Memory**: Stores only the current path → very memory efficient.\n",
        "**Downside**: Might explore unnecessary deep paths.\n",
        "\n",
        "A*: **bold text**\n",
        "\n",
        "**Time**: More efficient than BFS if the heuristic is good, since it prioritizes promising states.\n",
        "\n",
        "Memory: **bold text** Uses a priority queue → typically more memory than DFS, but less than BFS in large search spaces.\n",
        "Advantage **bold text**: Finds the optimal path more efficiently than BFS."
      ],
      "metadata": {
        "id": "BZozGZrKgQiQ"
      }
    },
    {
      "cell_type": "markdown",
      "source": [],
      "metadata": {
        "id": "rzcodBqEg2dQ"
      }
    },
    {
      "cell_type": "code",
      "source": [
        "#BFS Solution path:\n",
        "\n",
        "(0, 0)\n",
        "(4, 0)\n",
        "(1, 3)"
      ],
      "metadata": {
        "colab": {
          "base_uri": "https://localhost:8080/"
        },
        "id": "4EY7MTXPg2xn",
        "outputId": "c9902f90-0f0a-4b00-8f4d-5acb454930a0"
      },
      "execution_count": 1,
      "outputs": [
        {
          "output_type": "execute_result",
          "data": {
            "text/plain": [
              "(1, 3)"
            ]
          },
          "metadata": {},
          "execution_count": 1
        }
      ]
    },
    {
      "cell_type": "markdown",
      "source": [],
      "metadata": {
        "id": "xNYPprichAi3"
      }
    },
    {
      "cell_type": "code",
      "source": [
        "#DFS Solution path:\n",
        "\n",
        "(0, 0)\n",
        "(0, 3)\n",
        "(3, 0)\n",
        "(3, 3)\n",
        "(4, 2)\n",
        "(4, 0)\n",
        "(1, 3)"
      ],
      "metadata": {
        "colab": {
          "base_uri": "https://localhost:8080/"
        },
        "id": "wJtg4iguhGr3",
        "outputId": "5729f96e-0b92-4327-861a-0207057b5c7d"
      },
      "execution_count": 2,
      "outputs": [
        {
          "output_type": "execute_result",
          "data": {
            "text/plain": [
              "(1, 3)"
            ]
          },
          "metadata": {},
          "execution_count": 2
        }
      ]
    }
  ]
}