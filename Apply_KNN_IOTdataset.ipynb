{
  "nbformat": 4,
  "nbformat_minor": 0,
  "metadata": {
    "colab": {
      "provenance": [],
      "gpuType": "T4"
    },
    "kernelspec": {
      "name": "python3",
      "display_name": "Python 3"
    },
    "language_info": {
      "name": "python"
    },
    "accelerator": "GPU"
  },
  "cells": [
    {
      "cell_type": "markdown",
      "source": [],
      "metadata": {
        "id": "QZcmW6v7jmrc"
      }
    },
    {
      "cell_type": "code",
      "execution_count": 1,
      "metadata": {
        "colab": {
          "base_uri": "https://localhost:8080/"
        },
        "id": "xPevAjkVeqZF",
        "outputId": "aafb50db-b789-4ff5-f558-038b49ecd73e"
      },
      "outputs": [
        {
          "output_type": "stream",
          "name": "stdout",
          "text": [
            "   L4_SRC_PORT  L4_DST_PORT  PROTOCOL  L7_PROTO  IN_BYTES  IN_PKTS  OUT_BYTES  \\\n",
            "0        49235         4444         6       0.0    155392      202      34552   \n",
            "1        49228         1880         6       0.0      1600       40      35741   \n",
            "2            0            0         1       0.0       212        2          0   \n",
            "3        65317         1900        17       0.0       165        1          0   \n",
            "4        60766        15600        17       0.0        63        1          0   \n",
            "\n",
            "   OUT_PKTS  TCP_FLAGS  CLIENT_TCP_FLAGS  ...  TCP_WIN_MAX_IN  \\\n",
            "0       149         24                24  ...           45555   \n",
            "1        65         24                16  ...           16425   \n",
            "2         0          0                 0  ...               0   \n",
            "3         0          0                 0  ...               0   \n",
            "4         0          0                 0  ...               0   \n",
            "\n",
            "   TCP_WIN_MAX_OUT  ICMP_TYPE  ICMP_IPV4_TYPE  DNS_QUERY_ID  DNS_QUERY_TYPE  \\\n",
            "0             4805          0               0             0               0   \n",
            "1              237          0               0             0               0   \n",
            "2                0        771               3             0               0   \n",
            "3                0          0               0             0               0   \n",
            "4                0          0               0             0               0   \n",
            "\n",
            "   DNS_TTL_ANSWER  FTP_COMMAND_RET_CODE  Label      Attack  \n",
            "0               0                     0      1  ransomware  \n",
            "1               0                     0      0      Benign  \n",
            "2               0                     0      0      Benign  \n",
            "3               0                     0      0      Benign  \n",
            "4               0                     0      0      Benign  \n",
            "\n",
            "[5 rows x 43 columns]\n"
          ]
        }
      ],
      "source": [
        "import pandas as pd\n",
        "\n",
        "# Load the parquet file\n",
        "file_path = '/content/drive/MyDrive/AI_LAB/Assignment 1/NF-ToN-IoT-V2.parquet'\n",
        "df = pd.read_parquet(file_path)\n",
        "\n",
        "# Show the first few rows\n",
        "print(df.head())\n"
      ]
    },
    {
      "cell_type": "code",
      "source": [
        "print(\"Shape:\", df.shape)\n",
        "print(\"Columns:\", df.columns)\n",
        "print(\"Data types:\\n\", df.dtypes)\n",
        "print(\"Missing values:\\n\", df.isnull().sum())\n"
      ],
      "metadata": {
        "colab": {
          "base_uri": "https://localhost:8080/"
        },
        "id": "vW2RpsuAh9Fs",
        "outputId": "04d049a7-4e47-4855-ddd9-292959f749b3"
      },
      "execution_count": 2,
      "outputs": [
        {
          "output_type": "stream",
          "name": "stdout",
          "text": [
            "Shape: (13135881, 43)\n",
            "Columns: Index(['L4_SRC_PORT', 'L4_DST_PORT', 'PROTOCOL', 'L7_PROTO', 'IN_BYTES',\n",
            "       'IN_PKTS', 'OUT_BYTES', 'OUT_PKTS', 'TCP_FLAGS', 'CLIENT_TCP_FLAGS',\n",
            "       'SERVER_TCP_FLAGS', 'FLOW_DURATION_MILLISECONDS', 'DURATION_IN',\n",
            "       'DURATION_OUT', 'MIN_TTL', 'MAX_TTL', 'LONGEST_FLOW_PKT',\n",
            "       'SHORTEST_FLOW_PKT', 'MIN_IP_PKT_LEN', 'MAX_IP_PKT_LEN',\n",
            "       'SRC_TO_DST_SECOND_BYTES', 'DST_TO_SRC_SECOND_BYTES',\n",
            "       'RETRANSMITTED_IN_BYTES', 'RETRANSMITTED_IN_PKTS',\n",
            "       'RETRANSMITTED_OUT_BYTES', 'RETRANSMITTED_OUT_PKTS',\n",
            "       'SRC_TO_DST_AVG_THROUGHPUT', 'DST_TO_SRC_AVG_THROUGHPUT',\n",
            "       'NUM_PKTS_UP_TO_128_BYTES', 'NUM_PKTS_128_TO_256_BYTES',\n",
            "       'NUM_PKTS_256_TO_512_BYTES', 'NUM_PKTS_512_TO_1024_BYTES',\n",
            "       'NUM_PKTS_1024_TO_1514_BYTES', 'TCP_WIN_MAX_IN', 'TCP_WIN_MAX_OUT',\n",
            "       'ICMP_TYPE', 'ICMP_IPV4_TYPE', 'DNS_QUERY_ID', 'DNS_QUERY_TYPE',\n",
            "       'DNS_TTL_ANSWER', 'FTP_COMMAND_RET_CODE', 'Label', 'Attack'],\n",
            "      dtype='object')\n",
            "Data types:\n",
            " L4_SRC_PORT                      int32\n",
            "L4_DST_PORT                      int32\n",
            "PROTOCOL                          int8\n",
            "L7_PROTO                       float32\n",
            "IN_BYTES                         int32\n",
            "IN_PKTS                          int32\n",
            "OUT_BYTES                        int32\n",
            "OUT_PKTS                         int32\n",
            "TCP_FLAGS                        int16\n",
            "CLIENT_TCP_FLAGS                 int16\n",
            "SERVER_TCP_FLAGS                 int16\n",
            "FLOW_DURATION_MILLISECONDS       int32\n",
            "DURATION_IN                      int32\n",
            "DURATION_OUT                     int32\n",
            "MIN_TTL                          int16\n",
            "MAX_TTL                          int16\n",
            "LONGEST_FLOW_PKT                 int32\n",
            "SHORTEST_FLOW_PKT                int16\n",
            "MIN_IP_PKT_LEN                   int16\n",
            "MAX_IP_PKT_LEN                   int32\n",
            "SRC_TO_DST_SECOND_BYTES        float64\n",
            "DST_TO_SRC_SECOND_BYTES        float64\n",
            "RETRANSMITTED_IN_BYTES           int32\n",
            "RETRANSMITTED_IN_PKTS            int16\n",
            "RETRANSMITTED_OUT_BYTES          int32\n",
            "RETRANSMITTED_OUT_PKTS           int16\n",
            "SRC_TO_DST_AVG_THROUGHPUT        int64\n",
            "DST_TO_SRC_AVG_THROUGHPUT        int64\n",
            "NUM_PKTS_UP_TO_128_BYTES         int32\n",
            "NUM_PKTS_128_TO_256_BYTES        int32\n",
            "NUM_PKTS_256_TO_512_BYTES        int32\n",
            "NUM_PKTS_512_TO_1024_BYTES       int16\n",
            "NUM_PKTS_1024_TO_1514_BYTES      int32\n",
            "TCP_WIN_MAX_IN                   int32\n",
            "TCP_WIN_MAX_OUT                  int32\n",
            "ICMP_TYPE                        int32\n",
            "ICMP_IPV4_TYPE                   int16\n",
            "DNS_QUERY_ID                     int32\n",
            "DNS_QUERY_TYPE                   int16\n",
            "DNS_TTL_ANSWER                   int32\n",
            "FTP_COMMAND_RET_CODE             int16\n",
            "Label                             int8\n",
            "Attack                          object\n",
            "dtype: object\n",
            "Missing values:\n",
            " L4_SRC_PORT                    0\n",
            "L4_DST_PORT                    0\n",
            "PROTOCOL                       0\n",
            "L7_PROTO                       0\n",
            "IN_BYTES                       0\n",
            "IN_PKTS                        0\n",
            "OUT_BYTES                      0\n",
            "OUT_PKTS                       0\n",
            "TCP_FLAGS                      0\n",
            "CLIENT_TCP_FLAGS               0\n",
            "SERVER_TCP_FLAGS               0\n",
            "FLOW_DURATION_MILLISECONDS     0\n",
            "DURATION_IN                    0\n",
            "DURATION_OUT                   0\n",
            "MIN_TTL                        0\n",
            "MAX_TTL                        0\n",
            "LONGEST_FLOW_PKT               0\n",
            "SHORTEST_FLOW_PKT              0\n",
            "MIN_IP_PKT_LEN                 0\n",
            "MAX_IP_PKT_LEN                 0\n",
            "SRC_TO_DST_SECOND_BYTES        0\n",
            "DST_TO_SRC_SECOND_BYTES        0\n",
            "RETRANSMITTED_IN_BYTES         0\n",
            "RETRANSMITTED_IN_PKTS          0\n",
            "RETRANSMITTED_OUT_BYTES        0\n",
            "RETRANSMITTED_OUT_PKTS         0\n",
            "SRC_TO_DST_AVG_THROUGHPUT      0\n",
            "DST_TO_SRC_AVG_THROUGHPUT      0\n",
            "NUM_PKTS_UP_TO_128_BYTES       0\n",
            "NUM_PKTS_128_TO_256_BYTES      0\n",
            "NUM_PKTS_256_TO_512_BYTES      0\n",
            "NUM_PKTS_512_TO_1024_BYTES     0\n",
            "NUM_PKTS_1024_TO_1514_BYTES    0\n",
            "TCP_WIN_MAX_IN                 0\n",
            "TCP_WIN_MAX_OUT                0\n",
            "ICMP_TYPE                      0\n",
            "ICMP_IPV4_TYPE                 0\n",
            "DNS_QUERY_ID                   0\n",
            "DNS_QUERY_TYPE                 0\n",
            "DNS_TTL_ANSWER                 0\n",
            "FTP_COMMAND_RET_CODE           0\n",
            "Label                          0\n",
            "Attack                         0\n",
            "dtype: int64\n"
          ]
        }
      ]
    },
    {
      "cell_type": "code",
      "source": [
        "import pandas as pd\n",
        "\n",
        "file_path = '/content/drive/MyDrive/AI_LAB/Assignment 1/NF-ToN-IoT-V2.parquet'\n",
        "df = pd.read_parquet(file_path)\n",
        "\n",
        "print(df.head())\n"
      ],
      "metadata": {
        "colab": {
          "base_uri": "https://localhost:8080/"
        },
        "id": "8ndY9z_citak",
        "outputId": "85fa696d-1fb5-4557-f748-b1b7659caf33"
      },
      "execution_count": 3,
      "outputs": [
        {
          "output_type": "stream",
          "name": "stdout",
          "text": [
            "   L4_SRC_PORT  L4_DST_PORT  PROTOCOL  L7_PROTO  IN_BYTES  IN_PKTS  OUT_BYTES  \\\n",
            "0        49235         4444         6       0.0    155392      202      34552   \n",
            "1        49228         1880         6       0.0      1600       40      35741   \n",
            "2            0            0         1       0.0       212        2          0   \n",
            "3        65317         1900        17       0.0       165        1          0   \n",
            "4        60766        15600        17       0.0        63        1          0   \n",
            "\n",
            "   OUT_PKTS  TCP_FLAGS  CLIENT_TCP_FLAGS  ...  TCP_WIN_MAX_IN  \\\n",
            "0       149         24                24  ...           45555   \n",
            "1        65         24                16  ...           16425   \n",
            "2         0          0                 0  ...               0   \n",
            "3         0          0                 0  ...               0   \n",
            "4         0          0                 0  ...               0   \n",
            "\n",
            "   TCP_WIN_MAX_OUT  ICMP_TYPE  ICMP_IPV4_TYPE  DNS_QUERY_ID  DNS_QUERY_TYPE  \\\n",
            "0             4805          0               0             0               0   \n",
            "1              237          0               0             0               0   \n",
            "2                0        771               3             0               0   \n",
            "3                0          0               0             0               0   \n",
            "4                0          0               0             0               0   \n",
            "\n",
            "   DNS_TTL_ANSWER  FTP_COMMAND_RET_CODE  Label      Attack  \n",
            "0               0                     0      1  ransomware  \n",
            "1               0                     0      0      Benign  \n",
            "2               0                     0      0      Benign  \n",
            "3               0                     0      0      Benign  \n",
            "4               0                     0      0      Benign  \n",
            "\n",
            "[5 rows x 43 columns]\n"
          ]
        }
      ]
    },
    {
      "cell_type": "markdown",
      "source": [
        "**2. Understand your dataset**"
      ],
      "metadata": {
        "id": "qSsx5Flmjuvy"
      }
    },
    {
      "cell_type": "code",
      "source": [
        "print(df.columns)  # check columns\n",
        "print(df.dtypes)   # data types\n",
        "print(df.isnull().sum())  # missing values count\n"
      ],
      "metadata": {
        "colab": {
          "base_uri": "https://localhost:8080/"
        },
        "id": "vXqwwbmhiwu9",
        "outputId": "572fcd42-b7f9-424b-fd83-e68d3ecea6bc"
      },
      "execution_count": 4,
      "outputs": [
        {
          "output_type": "stream",
          "name": "stdout",
          "text": [
            "Index(['L4_SRC_PORT', 'L4_DST_PORT', 'PROTOCOL', 'L7_PROTO', 'IN_BYTES',\n",
            "       'IN_PKTS', 'OUT_BYTES', 'OUT_PKTS', 'TCP_FLAGS', 'CLIENT_TCP_FLAGS',\n",
            "       'SERVER_TCP_FLAGS', 'FLOW_DURATION_MILLISECONDS', 'DURATION_IN',\n",
            "       'DURATION_OUT', 'MIN_TTL', 'MAX_TTL', 'LONGEST_FLOW_PKT',\n",
            "       'SHORTEST_FLOW_PKT', 'MIN_IP_PKT_LEN', 'MAX_IP_PKT_LEN',\n",
            "       'SRC_TO_DST_SECOND_BYTES', 'DST_TO_SRC_SECOND_BYTES',\n",
            "       'RETRANSMITTED_IN_BYTES', 'RETRANSMITTED_IN_PKTS',\n",
            "       'RETRANSMITTED_OUT_BYTES', 'RETRANSMITTED_OUT_PKTS',\n",
            "       'SRC_TO_DST_AVG_THROUGHPUT', 'DST_TO_SRC_AVG_THROUGHPUT',\n",
            "       'NUM_PKTS_UP_TO_128_BYTES', 'NUM_PKTS_128_TO_256_BYTES',\n",
            "       'NUM_PKTS_256_TO_512_BYTES', 'NUM_PKTS_512_TO_1024_BYTES',\n",
            "       'NUM_PKTS_1024_TO_1514_BYTES', 'TCP_WIN_MAX_IN', 'TCP_WIN_MAX_OUT',\n",
            "       'ICMP_TYPE', 'ICMP_IPV4_TYPE', 'DNS_QUERY_ID', 'DNS_QUERY_TYPE',\n",
            "       'DNS_TTL_ANSWER', 'FTP_COMMAND_RET_CODE', 'Label', 'Attack'],\n",
            "      dtype='object')\n",
            "L4_SRC_PORT                      int32\n",
            "L4_DST_PORT                      int32\n",
            "PROTOCOL                          int8\n",
            "L7_PROTO                       float32\n",
            "IN_BYTES                         int32\n",
            "IN_PKTS                          int32\n",
            "OUT_BYTES                        int32\n",
            "OUT_PKTS                         int32\n",
            "TCP_FLAGS                        int16\n",
            "CLIENT_TCP_FLAGS                 int16\n",
            "SERVER_TCP_FLAGS                 int16\n",
            "FLOW_DURATION_MILLISECONDS       int32\n",
            "DURATION_IN                      int32\n",
            "DURATION_OUT                     int32\n",
            "MIN_TTL                          int16\n",
            "MAX_TTL                          int16\n",
            "LONGEST_FLOW_PKT                 int32\n",
            "SHORTEST_FLOW_PKT                int16\n",
            "MIN_IP_PKT_LEN                   int16\n",
            "MAX_IP_PKT_LEN                   int32\n",
            "SRC_TO_DST_SECOND_BYTES        float64\n",
            "DST_TO_SRC_SECOND_BYTES        float64\n",
            "RETRANSMITTED_IN_BYTES           int32\n",
            "RETRANSMITTED_IN_PKTS            int16\n",
            "RETRANSMITTED_OUT_BYTES          int32\n",
            "RETRANSMITTED_OUT_PKTS           int16\n",
            "SRC_TO_DST_AVG_THROUGHPUT        int64\n",
            "DST_TO_SRC_AVG_THROUGHPUT        int64\n",
            "NUM_PKTS_UP_TO_128_BYTES         int32\n",
            "NUM_PKTS_128_TO_256_BYTES        int32\n",
            "NUM_PKTS_256_TO_512_BYTES        int32\n",
            "NUM_PKTS_512_TO_1024_BYTES       int16\n",
            "NUM_PKTS_1024_TO_1514_BYTES      int32\n",
            "TCP_WIN_MAX_IN                   int32\n",
            "TCP_WIN_MAX_OUT                  int32\n",
            "ICMP_TYPE                        int32\n",
            "ICMP_IPV4_TYPE                   int16\n",
            "DNS_QUERY_ID                     int32\n",
            "DNS_QUERY_TYPE                   int16\n",
            "DNS_TTL_ANSWER                   int32\n",
            "FTP_COMMAND_RET_CODE             int16\n",
            "Label                             int8\n",
            "Attack                          object\n",
            "dtype: object\n",
            "L4_SRC_PORT                    0\n",
            "L4_DST_PORT                    0\n",
            "PROTOCOL                       0\n",
            "L7_PROTO                       0\n",
            "IN_BYTES                       0\n",
            "IN_PKTS                        0\n",
            "OUT_BYTES                      0\n",
            "OUT_PKTS                       0\n",
            "TCP_FLAGS                      0\n",
            "CLIENT_TCP_FLAGS               0\n",
            "SERVER_TCP_FLAGS               0\n",
            "FLOW_DURATION_MILLISECONDS     0\n",
            "DURATION_IN                    0\n",
            "DURATION_OUT                   0\n",
            "MIN_TTL                        0\n",
            "MAX_TTL                        0\n",
            "LONGEST_FLOW_PKT               0\n",
            "SHORTEST_FLOW_PKT              0\n",
            "MIN_IP_PKT_LEN                 0\n",
            "MAX_IP_PKT_LEN                 0\n",
            "SRC_TO_DST_SECOND_BYTES        0\n",
            "DST_TO_SRC_SECOND_BYTES        0\n",
            "RETRANSMITTED_IN_BYTES         0\n",
            "RETRANSMITTED_IN_PKTS          0\n",
            "RETRANSMITTED_OUT_BYTES        0\n",
            "RETRANSMITTED_OUT_PKTS         0\n",
            "SRC_TO_DST_AVG_THROUGHPUT      0\n",
            "DST_TO_SRC_AVG_THROUGHPUT      0\n",
            "NUM_PKTS_UP_TO_128_BYTES       0\n",
            "NUM_PKTS_128_TO_256_BYTES      0\n",
            "NUM_PKTS_256_TO_512_BYTES      0\n",
            "NUM_PKTS_512_TO_1024_BYTES     0\n",
            "NUM_PKTS_1024_TO_1514_BYTES    0\n",
            "TCP_WIN_MAX_IN                 0\n",
            "TCP_WIN_MAX_OUT                0\n",
            "ICMP_TYPE                      0\n",
            "ICMP_IPV4_TYPE                 0\n",
            "DNS_QUERY_ID                   0\n",
            "DNS_QUERY_TYPE                 0\n",
            "DNS_TTL_ANSWER                 0\n",
            "FTP_COMMAND_RET_CODE           0\n",
            "Label                          0\n",
            "Attack                         0\n",
            "dtype: int64\n"
          ]
        }
      ]
    },
    {
      "cell_type": "markdown",
      "source": [
        "**3. Preprocessing before KNN**\n",
        "\n",
        "\n"
      ],
      "metadata": {
        "id": "LeWqn5nSjxES"
      }
    },
    {
      "cell_type": "code",
      "source": [
        "from sklearn.model_selection import train_test_split\n",
        "from sklearn.preprocessing import StandardScaler\n",
        "from sklearn.impute import SimpleImputer\n",
        "\n",
        "# Replace 'target' with the actual name of your target column\n",
        "target_col = 'target'\n",
        "\n",
        "# Separate features and target\n",
        "X = df.drop(columns=[target_col])\n",
        "y = df[target_col]\n",
        "\n",
        "# Handling missing values (mean imputation for numeric)\n",
        "imputer = SimpleImputer(strategy='mean')\n",
        "X_imputed = imputer.fit_transform(X)\n",
        "\n",
        "# Feature scaling\n",
        "scaler = StandardScaler()\n",
        "X_scaled = scaler.fit_transform(X_imputed)\n",
        "\n",
        "# Train-test split (e.g., 80-20)\n",
        "X_train, X_test, y_train, y_test = train_test_split(X_scaled, y, test_size=0.2, random_state=42)\n"
      ],
      "metadata": {
        "id": "aF-JA8MOiz-b"
      },
      "execution_count": null,
      "outputs": []
    },
    {
      "cell_type": "markdown",
      "source": [
        "**4. Train and test KNN**"
      ],
      "metadata": {
        "id": "bVJql17Nj15K"
      }
    },
    {
      "cell_type": "code",
      "source": [
        "from sklearn.model_selection import train_test_split\n",
        "from sklearn.preprocessing import StandardScaler\n",
        "from sklearn.impute import SimpleImputer\n",
        "import pandas as pd\n",
        "from sklearn.neighbors import KNeighborsClassifier\n",
        "from sklearn.metrics import accuracy_score, classification_report, confusion_matrix\n",
        "\n",
        "# Load the parquet file\n",
        "file_path = '/content/drive/MyDrive/AI_LAB/Assignment 1/NF-ToN-IoT-V2.parquet'\n",
        "df = pd.read_parquet(file_path)\n",
        "\n",
        "# Replace 'target' with the actual name of your target column\n",
        "target_col = 'Label'\n",
        "\n",
        "# Separate features and target\n",
        "X = df.drop(columns=[target_col])\n",
        "y = df[target_col]\n",
        "\n",
        "# Handling missing values (mean imputation for numeric)\n",
        "imputer = SimpleImputer(strategy='mean')\n",
        "X_imputed = imputer.fit_transform(X)\n",
        "\n",
        "# Feature scaling\n",
        "scaler = StandardScaler()\n",
        "X_scaled = scaler.fit_transform(X_imputed)\n",
        "\n",
        "# Train-test split (e.g., 80-20)\n",
        "X_train, X_test, y_train, y_test = train_test_split(X_scaled, y, test_size=0.2, random_state=42)\n",
        "\n",
        "# Initialize KNN, you can choose k neighbors (start with k=5)\n",
        "knn = KNeighborsClassifier(n_neighbors=5)\n",
        "\n",
        "# Train\n",
        "knn.fit(X_train, y_train)\n",
        "\n",
        "# Predict\n",
        "y_pred = knn.predict(X_test)\n",
        "\n",
        "# Evaluate\n",
        "print(\"Accuracy:\", accuracy_score(y_test, y_pred))\n",
        "print(\"Classification Report:\\n\", classification_report(y_test, y_pred))\n",
        "print(\"Confusion Matrix:\\n\", confusion_matrix(y_test, y_pred))"
      ],
      "metadata": {
        "id": "vUwozinhi2ek"
      },
      "execution_count": null,
      "outputs": []
    }
  ]
}